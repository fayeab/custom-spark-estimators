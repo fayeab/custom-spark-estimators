{
 "cells": [
  {
   "cell_type": "markdown",
   "metadata": {},
   "source": [
    "## <font color='blue'>Utilisation d'estimateurs Scala avec Pyspark via un wrapper </font>"
   ]
  },
  {
   "cell_type": "markdown",
   "metadata": {},
   "source": [
    "L'objectif est de montrer avec un exemple simple commment créer ses propres estimators et transformers.\n",
    "\n",
    "1. L'estimator ou le transformer est d'abord créer en scala \n",
    "2. Ensuite on crée un wrapper python pour l'utiliser avec Pyspark\n",
    "\n",
    "Cette méthode permet aux estimators et aux transformers de fonctionnalités de Pyspark.\n",
    "\n",
    "Créer des estimators avec Pyspark directement peut poser des problèmes notemment lors de la sauvegarde et lecture des modèles.\n",
    "\n",
    "Le code est [ici](python)"
   ]
  },
  {
   "cell_type": "code",
   "execution_count": 2,
   "metadata": {},
   "outputs": [],
   "source": [
    "from pyspark import SparkConf\n",
    "from pyspark.sql import SparkSession\n",
    "\n",
    "conf = SparkConf().setAppName('Exple')\n",
    "spark = SparkSession.builder.config(conf=conf).getOrCreate()\n",
    "\n",
    "from feature import ColumnFilter, CustomVectorIndexer, CustomVectorIndexerModel"
   ]
  },
  {
   "cell_type": "code",
   "execution_count": 3,
   "metadata": {},
   "outputs": [
    {
     "name": "stdout",
     "output_type": "stream",
     "text": [
      "+---+--------+\n",
      "| ID|CATEGORY|\n",
      "+---+--------+\n",
      "|  0|      aa|\n",
      "|  1|      ab|\n",
      "|  2|      cd|\n",
      "|  3|      ad|\n",
      "|  4|      aa|\n",
      "+---+--------+\n",
      "\n"
     ]
    }
   ],
   "source": [
    "# créer une dataFrame à partir d’une séquence\n",
    "\n",
    "seq =  [(0, \"aa\"), (1, \"ab\"), (2, \"cd\"), (3, \"ad\"), (4, \"aa\")]\n",
    "dfm = spark.createDataFrame(seq).toDF(\"ID\", \"CATEGORY\")\n",
    "dfm.show(5)"
   ]
  },
  {
   "cell_type": "markdown",
   "metadata": {},
   "source": [
    "**Transformer**"
   ]
  },
  {
   "cell_type": "code",
   "execution_count": 4,
   "metadata": {},
   "outputs": [
    {
     "name": "stdout",
     "output_type": "stream",
     "text": [
      "+--------+\n",
      "|CATEGORY|\n",
      "+--------+\n",
      "|      aa|\n",
      "|      ab|\n",
      "|      cd|\n",
      "|      ad|\n",
      "|      aa|\n",
      "+--------+\n",
      "\n"
     ]
    }
   ],
   "source": [
    "filter_ = ColumnFilter().setDropCol('ID')\n",
    "filter_.transform(dfm).show()"
   ]
  },
  {
   "cell_type": "markdown",
   "metadata": {},
   "source": [
    "**Estimator**"
   ]
  },
  {
   "cell_type": "code",
   "execution_count": 5,
   "metadata": {},
   "outputs": [
    {
     "name": "stdout",
     "output_type": "stream",
     "text": [
      "+---+--------+--------------+\n",
      "|ID |CATEGORY|CATEGORY_INDEX|\n",
      "+---+--------+--------------+\n",
      "|0  |aa      |0.0           |\n",
      "|1  |ab      |1.0           |\n",
      "|2  |cd      |3.0           |\n",
      "|3  |ad      |2.0           |\n",
      "|4  |aa      |0.0           |\n",
      "+---+--------+--------------+\n",
      "\n"
     ]
    }
   ],
   "source": [
    "vectorizer = CustomVectorIndexer().setInputCol('CATEGORY').setOutputCol('CATEGORY_INDEX')\n",
    "model  = vectorizer.fit(dfm)\n",
    "model.transform(dfm).show(truncate=False)"
   ]
  },
  {
   "cell_type": "code",
   "execution_count": 6,
   "metadata": {},
   "outputs": [
    {
     "data": {
      "text/plain": [
       "{'aa': 0, 'ab': 1, 'ad': 2, 'cd': 3}"
      ]
     },
     "execution_count": 6,
     "metadata": {},
     "output_type": "execute_result"
    }
   ],
   "source": [
    "model.mapping_cat"
   ]
  },
  {
   "cell_type": "code",
   "execution_count": null,
   "metadata": {},
   "outputs": [],
   "source": []
  }
 ],
 "metadata": {
  "kernelspec": {
   "display_name": "Python 3",
   "language": "python",
   "name": "python3"
  },
  "language_info": {
   "codemirror_mode": {
    "name": "ipython",
    "version": 3
   },
   "file_extension": ".py",
   "mimetype": "text/x-python",
   "name": "python",
   "nbconvert_exporter": "python",
   "pygments_lexer": "ipython3",
   "version": "3.7.9"
  }
 },
 "nbformat": 4,
 "nbformat_minor": 4
}
